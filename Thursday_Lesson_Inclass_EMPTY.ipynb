{
 "cells": [
  {
   "cell_type": "markdown",
   "metadata": {},
   "source": [
    "# Object-Oriented-Programming (OOP)"
   ]
  },
  {
   "cell_type": "markdown",
   "metadata": {},
   "source": [
    "## Tasks Today:\n",
    "\n",
    "   \n",
    "\n",
    "1) <b>Creating a Class (Initializing/Declaring)</b> <br>\n",
    "2) <b>Using a Class (Instantiating)</b> <br>\n",
    " &nbsp;&nbsp;&nbsp;&nbsp; a) Creating One Instance <br>\n",
    " &nbsp;&nbsp;&nbsp;&nbsp; b) Creating Multiple Instances <br>\n",
    " &nbsp;&nbsp;&nbsp;&nbsp; c) In-Class Exercise #1 - Create a Class 'Car' and instantiate three different makes of cars <br>\n",
    "3) <b>The \\__init\\__() Method</b> <br>\n",
    " &nbsp;&nbsp;&nbsp;&nbsp; a) The 'self' Attribute <br>\n",
    "4) <b>Class Attributes</b> <br>\n",
    " &nbsp;&nbsp;&nbsp;&nbsp; a) Initializing Attributes <br>\n",
    " &nbsp;&nbsp;&nbsp;&nbsp; b) Setting an Attribute Outside of the \\__init\\__() Method <br>\n",
    " &nbsp;&nbsp;&nbsp;&nbsp; c) Setting Defaults for Attributes <br>\n",
    " &nbsp;&nbsp;&nbsp;&nbsp; d) Accessing Class Attributes <br>\n",
    " &nbsp;&nbsp;&nbsp;&nbsp; e) Changing Class Attributes <br>\n",
    " &nbsp;&nbsp;&nbsp;&nbsp; f) In-Class Exercise #2 - Add a color and wheels attribute to your 'Car' class <br>\n",
    "5) <b>Class Methods</b> <br>\n",
    " &nbsp;&nbsp;&nbsp;&nbsp; a) Creating <br>\n",
    " &nbsp;&nbsp;&nbsp;&nbsp; b) Calling <br>\n",
    " &nbsp;&nbsp;&nbsp;&nbsp; c) Modifying an Attribute's Value Through a Method <br>\n",
    " &nbsp;&nbsp;&nbsp;&nbsp; d) Incrementing an Attribute's Value Through a Method <br>\n",
    " &nbsp;&nbsp;&nbsp;&nbsp; e) In-Class Exercise #3 - Add a method that prints the cars color and wheel number, then call them <br>\n",
    "6) <b>Inheritance</b> <br>\n",
    " &nbsp;&nbsp;&nbsp;&nbsp; a) Syntax for Inheriting from a Parent Class <br>\n",
    " &nbsp;&nbsp;&nbsp;&nbsp; b) The \\__init\\__() Method for a Child Class (super()) <br>\n",
    " &nbsp;&nbsp;&nbsp;&nbsp; c) Defining Attributes and Methods for the Child Class <br>\n",
    " &nbsp;&nbsp;&nbsp;&nbsp; d) Method Overriding <br>\n",
    " &nbsp;&nbsp;&nbsp;&nbsp; e) In-Class Exercise #4 - Create a class 'Ford' that inherits from 'Car' class and initialize it as a Blue Ford Explorer with 4 wheels using the super() method <br>\n",
    "7) <b>Classes as Attributes</b> <br>\n",
    "8) <b>Exercises</b> <br>\n",
    " &nbsp;&nbsp;&nbsp;&nbsp; a) Exercise #1 - Turn the shopping cart program from yesterday into an object-oriented program <br>"
   ]
  },
  {
   "cell_type": "code",
   "execution_count": 6,
   "metadata": {},
   "outputs": [
    {
     "name": "stdout",
     "output_type": "stream",
     "text": [
      "['Hey', 'yall', 'The', 'Class', 'is', 'long', 'and', 'kind', 'of', 'dull']\n"
     ]
    }
   ],
   "source": [
    "my_string = \"Hey Guys The Class is long and kind of dull\"\n",
    "\n",
    "my_string=my_string.split()\n",
    "my_string[1]=\"yall\"\n",
    "print(my_string)"
   ]
  },
  {
   "cell_type": "code",
   "execution_count": 4,
   "metadata": {},
   "outputs": [
    {
     "data": {
      "text/plain": [
       "'H e y   G u y s   T h e   C l a s s   i s   l o n g   a n d   k i n d   o f   d u l l'"
      ]
     },
     "execution_count": 4,
     "metadata": {},
     "output_type": "execute_result"
    }
   ],
   "source": [
    "\" \".join(my_string)"
   ]
  },
  {
   "cell_type": "code",
   "execution_count": 2,
   "metadata": {},
   "outputs": [
    {
     "data": {
      "text/plain": [
       "['Hey Guy', ' The Cla', '', ' i', ' long and kind of dull']"
      ]
     },
     "execution_count": 2,
     "metadata": {},
     "output_type": "execute_result"
    }
   ],
   "source": [
    "my_string = \"Hey Guys The Class is long and kind of dull\"\n",
    "\n",
    "my_string.split('s')"
   ]
  },
  {
   "cell_type": "code",
   "execution_count": 1,
   "metadata": {
    "scrolled": true
   },
   "outputs": [
    {
     "ename": "KeyboardInterrupt",
     "evalue": "Interrupted by user",
     "output_type": "error",
     "traceback": [
      "\u001b[1;31m---------------------------------------------------------------------------\u001b[0m",
      "\u001b[1;31mKeyboardInterrupt\u001b[0m                         Traceback (most recent call last)",
      "\u001b[1;32m~\\AppData\\Local\\Temp/ipykernel_19772/3810092103.py\u001b[0m in \u001b[0;36m<module>\u001b[1;34m\u001b[0m\n\u001b[0;32m     51\u001b[0m \u001b[1;33m\u001b[0m\u001b[0m\n\u001b[0;32m     52\u001b[0m \u001b[1;31m# Driver Code\u001b[0m\u001b[1;33m\u001b[0m\u001b[1;33m\u001b[0m\u001b[0m\n\u001b[1;32m---> 53\u001b[1;33m \u001b[0mshopping_cart\u001b[0m\u001b[1;33m(\u001b[0m\u001b[1;33m)\u001b[0m\u001b[1;33m\u001b[0m\u001b[1;33m\u001b[0m\u001b[0m\n\u001b[0m",
      "\u001b[1;32m~\\AppData\\Local\\Temp/ipykernel_19772/3810092103.py\u001b[0m in \u001b[0;36mshopping_cart\u001b[1;34m()\u001b[0m\n\u001b[0;32m     32\u001b[0m \u001b[1;32mdef\u001b[0m \u001b[0mshopping_cart\u001b[0m\u001b[1;33m(\u001b[0m\u001b[1;33m)\u001b[0m\u001b[1;33m:\u001b[0m\u001b[1;33m\u001b[0m\u001b[1;33m\u001b[0m\u001b[0m\n\u001b[0;32m     33\u001b[0m     \u001b[1;32mwhile\u001b[0m \u001b[1;32mTrue\u001b[0m\u001b[1;33m:\u001b[0m\u001b[1;33m\u001b[0m\u001b[1;33m\u001b[0m\u001b[0m\n\u001b[1;32m---> 34\u001b[1;33m         \u001b[0mresponse\u001b[0m \u001b[1;33m=\u001b[0m \u001b[0minput\u001b[0m\u001b[1;33m(\u001b[0m\u001b[1;34m\"What would you like to do?  You can: quit/ add/ remove/ show/ or clear/ \\n Choose only one \\n\"\u001b[0m\u001b[1;33m)\u001b[0m\u001b[1;33m\u001b[0m\u001b[1;33m\u001b[0m\u001b[0m\n\u001b[0m\u001b[0;32m     35\u001b[0m         \u001b[1;32mif\u001b[0m \u001b[0mresponse\u001b[0m\u001b[1;33m.\u001b[0m\u001b[0mlower\u001b[0m\u001b[1;33m(\u001b[0m\u001b[1;33m)\u001b[0m\u001b[1;33m.\u001b[0m\u001b[0mstrip\u001b[0m\u001b[1;33m(\u001b[0m\u001b[1;33m)\u001b[0m \u001b[1;33m==\u001b[0m \u001b[1;34m'quit'\u001b[0m\u001b[1;33m:\u001b[0m\u001b[1;33m\u001b[0m\u001b[1;33m\u001b[0m\u001b[0m\n\u001b[0;32m     36\u001b[0m             \u001b[0mshow_cart\u001b[0m\u001b[1;33m(\u001b[0m\u001b[1;33m)\u001b[0m\u001b[1;33m\u001b[0m\u001b[1;33m\u001b[0m\u001b[0m\n",
      "\u001b[1;32m~\\anaconda3\\lib\\site-packages\\ipykernel\\kernelbase.py\u001b[0m in \u001b[0;36mraw_input\u001b[1;34m(self, prompt)\u001b[0m\n\u001b[0;32m   1004\u001b[0m                 \u001b[1;34m\"raw_input was called, but this frontend does not support input requests.\"\u001b[0m\u001b[1;33m\u001b[0m\u001b[1;33m\u001b[0m\u001b[0m\n\u001b[0;32m   1005\u001b[0m             )\n\u001b[1;32m-> 1006\u001b[1;33m         return self._input_request(\n\u001b[0m\u001b[0;32m   1007\u001b[0m             \u001b[0mstr\u001b[0m\u001b[1;33m(\u001b[0m\u001b[0mprompt\u001b[0m\u001b[1;33m)\u001b[0m\u001b[1;33m,\u001b[0m\u001b[1;33m\u001b[0m\u001b[1;33m\u001b[0m\u001b[0m\n\u001b[0;32m   1008\u001b[0m             \u001b[0mself\u001b[0m\u001b[1;33m.\u001b[0m\u001b[0m_parent_ident\u001b[0m\u001b[1;33m[\u001b[0m\u001b[1;34m\"shell\"\u001b[0m\u001b[1;33m]\u001b[0m\u001b[1;33m,\u001b[0m\u001b[1;33m\u001b[0m\u001b[1;33m\u001b[0m\u001b[0m\n",
      "\u001b[1;32m~\\anaconda3\\lib\\site-packages\\ipykernel\\kernelbase.py\u001b[0m in \u001b[0;36m_input_request\u001b[1;34m(self, prompt, ident, parent, password)\u001b[0m\n\u001b[0;32m   1049\u001b[0m             \u001b[1;32mexcept\u001b[0m \u001b[0mKeyboardInterrupt\u001b[0m\u001b[1;33m:\u001b[0m\u001b[1;33m\u001b[0m\u001b[1;33m\u001b[0m\u001b[0m\n\u001b[0;32m   1050\u001b[0m                 \u001b[1;31m# re-raise KeyboardInterrupt, to truncate traceback\u001b[0m\u001b[1;33m\u001b[0m\u001b[1;33m\u001b[0m\u001b[0m\n\u001b[1;32m-> 1051\u001b[1;33m                 \u001b[1;32mraise\u001b[0m \u001b[0mKeyboardInterrupt\u001b[0m\u001b[1;33m(\u001b[0m\u001b[1;34m\"Interrupted by user\"\u001b[0m\u001b[1;33m)\u001b[0m \u001b[1;32mfrom\u001b[0m \u001b[1;32mNone\u001b[0m\u001b[1;33m\u001b[0m\u001b[1;33m\u001b[0m\u001b[0m\n\u001b[0m\u001b[0;32m   1052\u001b[0m             \u001b[1;32mexcept\u001b[0m \u001b[0mException\u001b[0m\u001b[1;33m:\u001b[0m\u001b[1;33m\u001b[0m\u001b[1;33m\u001b[0m\u001b[0m\n\u001b[0;32m   1053\u001b[0m                 \u001b[0mself\u001b[0m\u001b[1;33m.\u001b[0m\u001b[0mlog\u001b[0m\u001b[1;33m.\u001b[0m\u001b[0mwarning\u001b[0m\u001b[1;33m(\u001b[0m\u001b[1;34m\"Invalid Message:\"\u001b[0m\u001b[1;33m,\u001b[0m \u001b[0mexc_info\u001b[0m\u001b[1;33m=\u001b[0m\u001b[1;32mTrue\u001b[0m\u001b[1;33m)\u001b[0m\u001b[1;33m\u001b[0m\u001b[1;33m\u001b[0m\u001b[0m\n",
      "\u001b[1;31mKeyboardInterrupt\u001b[0m: Interrupted by user"
     ]
    }
   ],
   "source": [
    "from IPython.display import clear_output\n",
    "\n",
    "\n",
    "cart = []\n",
    "\n",
    "# Show, add, remove, clear\n",
    "\n",
    "def show_cart():\n",
    "    clear_output()\n",
    "    print(\"Your Cart Contains:\")\n",
    "    for item in cart:\n",
    "        print(item)\n",
    "    if not cart:\n",
    "        print(\"Your Cart is empty\")\n",
    "\n",
    "def add_item(item):\n",
    "    clear_output()\n",
    "    cart.append(item)\n",
    "    print(f\"{item} was added to your cart\")\n",
    "\n",
    "def remove_item(item):\n",
    "    clear_output()\n",
    "    cart.remove(item)\n",
    "    print(f\"{item} was removed from your cart\")\n",
    "\n",
    "def clear_cart():\n",
    "    clear_output()\n",
    "    cart.clear()\n",
    "    print(\"You cart is empty\")\n",
    "\n",
    "#UI\n",
    "def shopping_cart():\n",
    "    while True:\n",
    "        response = input(\"What would you like to do?  You can: quit/ add/ remove/ show/ or clear/ \\n Choose only one \\n\")\n",
    "        if response.lower().strip() == 'quit':\n",
    "            show_cart()\n",
    "            print(\"Thanks for Shopping\")\n",
    "            break\n",
    "        elif response.lower().strip() == 'add':\n",
    "            item1 = input(\"What would you like to add? \")\n",
    "            add_item(item1)\n",
    "        elif response.lower().strip() == 'remove':\n",
    "            item2 = input(\"What would you like to remove? \")\n",
    "            remove_item(item2)\n",
    "        elif response.lower().strip() == 'show':\n",
    "            show_cart()\n",
    "        elif response.lower().strip() == 'clear':\n",
    "            clear_cart()\n",
    "        else:\n",
    "            print(\"Invalid Option You doughnut!\")\n",
    "            \n",
    "# Driver Code        \n",
    "shopping_cart()"
   ]
  },
  {
   "cell_type": "code",
   "execution_count": 4,
   "metadata": {},
   "outputs": [
    {
     "name": "stdout",
     "output_type": "stream",
     "text": [
      "They are playing football\n",
      "They are playing soccer\n"
     ]
    }
   ],
   "source": [
    "alex = {\n",
    "    \"name\": \"Alex\",\n",
    "    \"weight\": 190,\n",
    "    \"age\": \"old\",\n",
    "    \"activity\": \"soccer\"\n",
    "}\n",
    "\n",
    "patrick = {\n",
    "    \"name\":\"Patrick\",\n",
    "    \"weight\": 140,\n",
    "    \"age\": 65,\n",
    "    \"activity\": \"football\"\n",
    "}\n",
    "\n",
    "def do_activity(person):\n",
    "    if person[\"activity\"] == \"football\":\n",
    "        print(\"They are playing football\")\n",
    "    if person[\"activity\"] == \"soccer\":\n",
    "        print(\"They are playing soccer\")\n",
    "\n",
    "do_activity(patrick)\n",
    "do_activity(alex)\n"
   ]
  },
  {
   "cell_type": "code",
   "execution_count": null,
   "metadata": {},
   "outputs": [],
   "source": [
    "# Circumfrance of a cirle\n"
   ]
  },
  {
   "cell_type": "markdown",
   "metadata": {},
   "source": [
    "## Creating a Class (Initializing/Declaring)\n",
    "<p>When creating a class, function, or even a variable you are initializing that object. Initializing and Declaring occur at the same time in Python, whereas in lower level languages you have to declare an object before initializing it. This is the first step in the process of using a class.</p>"
   ]
  },
  {
   "cell_type": "code",
   "execution_count": null,
   "metadata": {},
   "outputs": [],
   "source": [
    "my_string1=1"
   ]
  },
  {
   "cell_type": "code",
   "execution_count": 5,
   "metadata": {},
   "outputs": [],
   "source": [
    "class Car(): #important use pascal case\n",
    "    wheels = 4\n",
    "    color = \"blue\"\n",
    "    \n",
    "\n",
    "#class BigGiantCar <Pastcal case"
   ]
  },
  {
   "cell_type": "markdown",
   "metadata": {},
   "source": [
    "## Using a Class (Instantiating)\n",
    "<p>The process of creating a class is called <i>Instantiating</i>. Each time you create a variable of that type of class, it is referred to as an <i>Instance</i> of that class. This is the second step in the process of using a class.</p>"
   ]
  },
  {
   "cell_type": "markdown",
   "metadata": {},
   "source": [
    "##### Creating One Instance"
   ]
  },
  {
   "cell_type": "code",
   "execution_count": 6,
   "metadata": {},
   "outputs": [
    {
     "data": {
      "text/plain": [
       "<__main__.Car at 0x2335fc1fd30>"
      ]
     },
     "execution_count": 6,
     "metadata": {},
     "output_type": "execute_result"
    }
   ],
   "source": [
    "ford = Car()\n",
    "ford"
   ]
  },
  {
   "cell_type": "code",
   "execution_count": 7,
   "metadata": {},
   "outputs": [
    {
     "data": {
      "text/plain": [
       "4"
      ]
     },
     "execution_count": 7,
     "metadata": {},
     "output_type": "execute_result"
    }
   ],
   "source": [
    "ford.wheels"
   ]
  },
  {
   "cell_type": "code",
   "execution_count": 8,
   "metadata": {},
   "outputs": [
    {
     "data": {
      "text/plain": [
       "'blue'"
      ]
     },
     "execution_count": 8,
     "metadata": {},
     "output_type": "execute_result"
    }
   ],
   "source": [
    "ford.color"
   ]
  },
  {
   "cell_type": "markdown",
   "metadata": {},
   "source": [
    "##### Creating Multiple Instances"
   ]
  },
  {
   "cell_type": "code",
   "execution_count": 9,
   "metadata": {},
   "outputs": [
    {
     "name": "stdout",
     "output_type": "stream",
     "text": [
      "4\n",
      "4\n",
      "blue\n",
      "blue\n"
     ]
    }
   ],
   "source": [
    "chevy = Car()\n",
    "honda = Car()\n",
    "porsche = Car()\n",
    "\n",
    "print(honda.wheels)\n",
    "print(chevy.wheels)\n",
    "print(porsche.color)\n",
    "print(honda.color)"
   ]
  },
  {
   "cell_type": "markdown",
   "metadata": {},
   "source": [
    "##### In-Class Exercise #1 - Create a Class 'Car' and Instantiate three different makes of cars"
   ]
  },
  {
   "cell_type": "code",
   "execution_count": 16,
   "metadata": {},
   "outputs": [],
   "source": [
    "# 4 different attributes\n",
    "class Cars():\n",
    "    doors= 4\n",
    "    seatbelts= 0\n",
    "    airbags= 27\n",
    "    color= \"red\"\n",
    "    windows= \"tinted\""
   ]
  },
  {
   "cell_type": "code",
   "execution_count": 17,
   "metadata": {},
   "outputs": [],
   "source": [
    "mystery_machine = Cars()\n",
    "aston_martin= Cars()\n",
    "delorean = Cars()\n",
    "falcon = Cars()"
   ]
  },
  {
   "cell_type": "code",
   "execution_count": 18,
   "metadata": {},
   "outputs": [
    {
     "name": "stdout",
     "output_type": "stream",
     "text": [
      "tinted\n"
     ]
    }
   ],
   "source": [
    "print(aston_martin.windows)"
   ]
  },
  {
   "cell_type": "code",
   "execution_count": null,
   "metadata": {},
   "outputs": [],
   "source": []
  },
  {
   "cell_type": "markdown",
   "metadata": {},
   "source": [
    "## The \\__init\\__() Method <br>\n",
    "<p>This method is used in almost every created class, and called only once upon the creation of the class instance. This method will initialize all variables needed for the object.</p>"
   ]
  },
  {
   "cell_type": "code",
   "execution_count": 21,
   "metadata": {},
   "outputs": [
    {
     "name": "stdout",
     "output_type": "stream",
     "text": [
      "4\n",
      "3\n",
      "4.7L\n",
      "4.7L\n",
      "4\n",
      "red\n",
      "4.7L\n",
      "3\n",
      "green\n",
      "4.7L\n"
     ]
    }
   ],
   "source": [
    "class Car():\n",
    "    engine =\"4.7L\" #class attribute\n",
    "    \n",
    "    #constructor\n",
    "    def __init__(self, color, num_of_wheels=4):\n",
    "        self.wheels = num_of_wheels #instance attributes\n",
    "        self.color = color #instance attributes\n",
    "        \n",
    "ford = Car(\"red\")\n",
    "trike = Car(\"green\", 3)\n",
    "\n",
    "print(ford.wheels)\n",
    "print(trike.wheels)\n",
    "print(ford.engine)\n",
    "print(trike.engine)\n",
    "\n",
    "my_cars = [ford,trike]\n",
    "\n",
    "for car in my_cars:\n",
    "    print(car.wheels)\n",
    "    print(car.color)\n",
    "    print(car.engine)"
   ]
  },
  {
   "cell_type": "markdown",
   "metadata": {},
   "source": [
    "##### The 'self' Attribute <br>\n",
    "<p>This attribute is required to keep track of specific instance's attributes. Without the self attribute, the program would not know how to reference or keep track of an instance's attributes.</p>"
   ]
  },
  {
   "cell_type": "code",
   "execution_count": null,
   "metadata": {},
   "outputs": [],
   "source": [
    "# see above"
   ]
  },
  {
   "cell_type": "markdown",
   "metadata": {},
   "source": [
    "## Class Attributes <br>\n",
    "<p>While variables are inside of a class, they are referred to as attributes and not variables. When someone says 'attribute' you know they're speaking about a class. Attributes can be initialized through the init method, or outside of it.</p>"
   ]
  },
  {
   "cell_type": "markdown",
   "metadata": {},
   "source": [
    "##### Initializing Attributes"
   ]
  },
  {
   "cell_type": "code",
   "execution_count": null,
   "metadata": {},
   "outputs": [],
   "source": [
    "# see above"
   ]
  },
  {
   "cell_type": "markdown",
   "metadata": {},
   "source": [
    "##### Accessing Class Attributes"
   ]
  },
  {
   "cell_type": "code",
   "execution_count": null,
   "metadata": {
    "scrolled": true
   },
   "outputs": [],
   "source": [
    "# See Above"
   ]
  },
  {
   "cell_type": "markdown",
   "metadata": {},
   "source": [
    "##### Setting Defaults for Attributes"
   ]
  },
  {
   "cell_type": "code",
   "execution_count": null,
   "metadata": {},
   "outputs": [],
   "source": []
  },
  {
   "cell_type": "markdown",
   "metadata": {},
   "source": [
    "##### Changing Class Attributes <br>\n",
    "<p>Keep in mind there are global class attributes and then there are attributes only available to each class instance which won't effect other classes.</p>"
   ]
  },
  {
   "cell_type": "code",
   "execution_count": 32,
   "metadata": {},
   "outputs": [
    {
     "name": "stdout",
     "output_type": "stream",
     "text": [
      "2.0L\n",
      "1.5L\n"
     ]
    }
   ],
   "source": [
    "#changing the class variable on an instance (trike is an instance of Car)\n",
    "trike.engine = \"2.0L\"\n",
    "print(trike.engine)\n",
    "print(ford.engine)"
   ]
  },
  {
   "cell_type": "code",
   "execution_count": 31,
   "metadata": {},
   "outputs": [
    {
     "data": {
      "text/plain": [
       "'1.5L'"
      ]
     },
     "execution_count": 31,
     "metadata": {},
     "output_type": "execute_result"
    }
   ],
   "source": [
    "#change the class variable across all instances won't change previous instance but will change future instances\n",
    "Car.engine = \"1.5L\"\n",
    "trike.engine\n",
    "new_car = Car(\"yellow\")\n",
    "new_car.engine"
   ]
  },
  {
   "cell_type": "code",
   "execution_count": 33,
   "metadata": {},
   "outputs": [
    {
     "data": {
      "text/plain": [
       "'1.5L'"
      ]
     },
     "execution_count": 33,
     "metadata": {},
     "output_type": "execute_result"
    }
   ],
   "source": [
    "Car.engine #access class attributes"
   ]
  },
  {
   "cell_type": "code",
   "execution_count": 36,
   "metadata": {},
   "outputs": [
    {
     "name": "stdout",
     "output_type": "stream",
     "text": [
      "purple\n",
      "purple\n",
      "green\n"
     ]
    }
   ],
   "source": [
    "#change an instance attributes\n",
    "print(ford.color)\n",
    "ford.color= \"purple\"\n",
    "print(ford.color)\n",
    "print(trike.color)"
   ]
  },
  {
   "cell_type": "code",
   "execution_count": 37,
   "metadata": {},
   "outputs": [
    {
     "name": "stdout",
     "output_type": "stream",
     "text": [
      "True\n"
     ]
    }
   ],
   "source": [
    "#add an instance variable\n",
    "ford.is_truck= True\n",
    "print(ford.is_truck)"
   ]
  },
  {
   "cell_type": "code",
   "execution_count": 41,
   "metadata": {},
   "outputs": [],
   "source": [
    "Car.has_sun_roof = False\n"
   ]
  },
  {
   "cell_type": "code",
   "execution_count": 40,
   "metadata": {},
   "outputs": [
    {
     "ename": "AttributeError",
     "evalue": "'Car' object has no attribute 'has_sun_roof'",
     "output_type": "error",
     "traceback": [
      "\u001b[1;31m---------------------------------------------------------------------------\u001b[0m",
      "\u001b[1;31mAttributeError\u001b[0m                            Traceback (most recent call last)",
      "\u001b[1;32m~\\AppData\\Local\\Temp/ipykernel_22608/882337048.py\u001b[0m in \u001b[0;36m<module>\u001b[1;34m\u001b[0m\n\u001b[0;32m      1\u001b[0m \u001b[0mnew_car1\u001b[0m \u001b[1;33m=\u001b[0m \u001b[0mCar\u001b[0m\u001b[1;33m(\u001b[0m\u001b[1;34m'cyan'\u001b[0m\u001b[1;33m)\u001b[0m\u001b[1;33m\u001b[0m\u001b[1;33m\u001b[0m\u001b[0m\n\u001b[1;32m----> 2\u001b[1;33m \u001b[0mnew_car1\u001b[0m\u001b[1;33m.\u001b[0m\u001b[0mhas_sun_roof\u001b[0m\u001b[1;33m\u001b[0m\u001b[1;33m\u001b[0m\u001b[0m\n\u001b[0m",
      "\u001b[1;31mAttributeError\u001b[0m: 'Car' object has no attribute 'has_sun_roof'"
     ]
    }
   ],
   "source": [
    "new_car1 = Car('cyan')\n",
    "new_car1.has_sun_roof"
   ]
  },
  {
   "cell_type": "markdown",
   "metadata": {},
   "source": [
    "##### In-Class Exercise #2 - Add a doors and seats attribute to your 'Car' class then print out two different instances with different doors and seats"
   ]
  },
  {
   "cell_type": "code",
   "execution_count": 45,
   "metadata": {},
   "outputs": [
    {
     "name": "stdout",
     "output_type": "stream",
     "text": [
      "2\n",
      "2\n",
      "1\n",
      "16\n"
     ]
    }
   ],
   "source": [
    "class Car():\n",
    "    engine = \"4.7L\" #Atrribute class\n",
    "    # Construction\n",
    "    def __init__(self, seats=5, doors=4):\n",
    "        self.seats = seats ##Instance Attribute\n",
    "        self.doors = doors\n",
    "benz_coup = Car(2, 2)\n",
    "school_bus = Car(16, 1)\n",
    "print(benz_coup.seats)\n",
    "print(benz_coup.doors)\n",
    "print(school_bus.doors)\n",
    "print(school_bus.seats)"
   ]
  },
  {
   "cell_type": "code",
   "execution_count": 44,
   "metadata": {},
   "outputs": [],
   "source": []
  },
  {
   "cell_type": "code",
   "execution_count": null,
   "metadata": {},
   "outputs": [],
   "source": []
  },
  {
   "cell_type": "markdown",
   "metadata": {},
   "source": [
    "## Class Methods <br>\n",
    "<p>While inside of a class, functions are referred to as 'methods'. If you hear someone mention methods, they're speaking about classes. Methods are essentially functions, but only callable on the instances of a class.</p>"
   ]
  },
  {
   "cell_type": "code",
   "execution_count": null,
   "metadata": {},
   "outputs": [],
   "source": [
    "#Instance Methods not Class Methods"
   ]
  },
  {
   "cell_type": "code",
   "execution_count": 46,
   "metadata": {},
   "outputs": [],
   "source": [
    "class Car():\n",
    "    def __init__(self, wheels, color, seats):\n",
    "        self.wheels = wheels\n",
    "        self.color = color\n",
    "        self.seats= seats\n",
    "        self.sunroof = False\n",
    "    \n",
    "    def drive(self):\n",
    "        print(\"Vrrrrroooooommm!!!\")\n",
    "    \n",
    "    def set_color(self, new_color):\n",
    "        self.color = new_color\n",
    "        \n",
    "    def describe(self):\n",
    "        print(F\"the car is {self.color} with {self.seats} seats and {self.wheels} wheels\")\n",
    "    \n",
    "    def add_seats(self):\n",
    "        self.seats+=1\n",
    "        \n",
    "        "
   ]
  },
  {
   "cell_type": "code",
   "execution_count": 47,
   "metadata": {
    "scrolled": true
   },
   "outputs": [
    {
     "name": "stdout",
     "output_type": "stream",
     "text": [
      "{'wheels': 4, 'color': 'red', 'seats': 8, 'sunroof': False}\n"
     ]
    }
   ],
   "source": [
    "chevy = Car(4,\"red\", 8)\n",
    "print(chevy.__dict__)"
   ]
  },
  {
   "cell_type": "code",
   "execution_count": 53,
   "metadata": {},
   "outputs": [
    {
     "name": "stdout",
     "output_type": "stream",
     "text": [
      "Vrrrrroooooommm!!!\n",
      "the car is green with 8 seats and 4 wheels\n",
      "the car is green with 9 seats and 4 wheels\n"
     ]
    }
   ],
   "source": [
    "chevy.drive()\n",
    "chevy.describe()\n",
    "chevy.set_color(\"green\")\n",
    "chevy.add_seats()\n",
    "chevy.describe()"
   ]
  },
  {
   "cell_type": "code",
   "execution_count": null,
   "metadata": {},
   "outputs": [],
   "source": []
  },
  {
   "cell_type": "markdown",
   "metadata": {},
   "source": [
    "##### Creating"
   ]
  },
  {
   "cell_type": "code",
   "execution_count": null,
   "metadata": {},
   "outputs": [],
   "source": []
  },
  {
   "cell_type": "markdown",
   "metadata": {},
   "source": [
    "##### Calling"
   ]
  },
  {
   "cell_type": "code",
   "execution_count": null,
   "metadata": {},
   "outputs": [],
   "source": [
    "# See Above"
   ]
  },
  {
   "cell_type": "markdown",
   "metadata": {},
   "source": [
    "##### Modifying an Attribute's Value Through a Method"
   ]
  },
  {
   "cell_type": "code",
   "execution_count": null,
   "metadata": {},
   "outputs": [],
   "source": []
  },
  {
   "cell_type": "markdown",
   "metadata": {},
   "source": [
    "##### Incrementing an Attribute's Value Through a Method"
   ]
  },
  {
   "cell_type": "code",
   "execution_count": null,
   "metadata": {},
   "outputs": [],
   "source": []
  },
  {
   "cell_type": "markdown",
   "metadata": {},
   "source": [
    "##### In-Class Exercise #3 - Add a method that takes in three parameters of year, doors and seats and prints out a formatted print statement with make, model, year, seats, and doors"
   ]
  },
  {
   "cell_type": "code",
   "execution_count": 60,
   "metadata": {},
   "outputs": [
    {
     "name": "stdout",
     "output_type": "stream",
     "text": [
      "this car is a None Mazda CX-5 and has None doors and None seats\n",
      "this car is a 2021 Mazda CX-5 and has 4 doors and 5 seats\n",
      "this car is a 1991 Ford POS and has 2 doors and 4 seats\n",
      "Mazda CX-5 is better than Ford POS\n",
      "Mazda CX-5 is better than Ford POS\n"
     ]
    }
   ],
   "source": [
    "# Create class with 2 paramters inside of the __init__ which are make and model\n",
    "\n",
    "# Inside of the Car class create a method that has 4 parameter in total (self,year,door,seats)\n",
    "\n",
    "# Output: This car is from 2019 and is a Ford Expolorer and has 4 doors and 5 seats\n",
    "\n",
    "class Car():\n",
    "    engine = \"4.7L\"\n",
    "    \n",
    "    \n",
    "    def __init__(self, make, model):\n",
    "        self.make = make\n",
    "        self.model = model\n",
    "        self.year = None\n",
    "        self.doors = None\n",
    "        self.seats = None\n",
    "    def add_details(self, year, doors, s):\n",
    "        self.year= year\n",
    "        self.doors = doors\n",
    "        self.seats = s\n",
    "        \n",
    "    def describe(self):\n",
    "        print(f\"this car is a {self.year} {self.make} {self.model} and has {self.doors} doors and {self.seats} seats\")\n",
    "\n",
    "    @classmethod\n",
    "    def which_is_better(cls,car1, car2):\n",
    "        if car1.year > car2.year:\n",
    "            print(f\"{car1.make} {car1.model} is better than {car2.make} {car2.model}\")\n",
    "        else: \n",
    "            print(f\"{car1.make} {car1.model} is worse than {car2.make} {car2.model}\")\n",
    "\n",
    "my_car =Car(\"Mazda\", \"CX-5\")\n",
    "\n",
    "my_car.describe()\n",
    "my_car.add_details(2021, 4, 5)\n",
    "my_car.describe()\n",
    "\n",
    "alex_car = Car(\"Ford\", \"POS\")\n",
    "alex_car.add_details(1991,2,4)\n",
    "alex_car.describe()\n",
    "\n",
    "Car.which_is_better(my_car, alex_car)\n",
    "\n",
    "alex_car.which_is_better(my_car, alex_car)"
   ]
  },
  {
   "cell_type": "markdown",
   "metadata": {},
   "source": [
    "## Inheritance <br>\n",
    "<p>You can create a child-parent relationship between two classes by using inheritance. What this allows you to do is have overriding methods, but also inherit traits from the parent class. Think of it as an actual parent and child, the child will inherit the parent's genes, as will the classes in OOP</p>"
   ]
  },
  {
   "cell_type": "markdown",
   "metadata": {},
   "source": [
    "##### Syntax for Inheriting from a Parent Class"
   ]
  },
  {
   "cell_type": "code",
   "execution_count": 63,
   "metadata": {},
   "outputs": [
    {
     "name": "stdout",
     "output_type": "stream",
     "text": [
      "the dog has 15 m/s speed and 9.8 m/s**2 acceleration ans is a Black Lab is housetrained : True\n",
      "BAARRRRKKKK!!!!!!!\n",
      "galloping\n",
      "Some Generic Animal Sound\n",
      "galloping\n"
     ]
    }
   ],
   "source": [
    "class Animal():\n",
    "    acc = 9.8\n",
    "    def __init__(self, name, species, legs=4):\n",
    "        self.name = name\n",
    "        self.species = species\n",
    "        self.legs = legs\n",
    "        self.random = 55\n",
    "    \n",
    "    def speak(self):\n",
    "        print(\"Some Generic Animal Sound\")\n",
    "        \n",
    "    def run(self):\n",
    "        print(\"galloping\")\n",
    "\n",
    "class Dog(Animal):\n",
    "    speed = 15\n",
    "    def __init__(self, is_house_trained, name, species, legs=4):\n",
    "        super().__init__(name,species, legs)\n",
    "        self.is_house_trained = is_house_trained\n",
    "        \n",
    "    def describe(self):\n",
    "        print(f'the dog has {self.speed} m/s speed and {self.acc} m/s**2 acceleration ans is a {self.species} \\\n",
    "is housetrained : {self.is_house_trained}')\n",
    "    \n",
    "    #method overriding .. this will override the method in the parent class\n",
    "    def speak(self):\n",
    "        print(\"BAARRRRKKKK!!!!!!!\")\n",
    "\n",
    "nala = Dog(True, 'Nala', 'Black Lab')\n",
    "nala.describe()\n",
    "nala.speak()\n",
    "nala.run()\n",
    "\n",
    "        \n",
    "zebra = Animal('Zee', 'Zebra')\n",
    "zebra.speak()\n",
    "zebra.run()\n",
    "    "
   ]
  },
  {
   "cell_type": "code",
   "execution_count": 64,
   "metadata": {},
   "outputs": [
    {
     "data": {
      "text/plain": [
       "True"
      ]
     },
     "execution_count": 64,
     "metadata": {},
     "output_type": "execute_result"
    }
   ],
   "source": [
    "isinstance(\"hey\", str)"
   ]
  },
  {
   "cell_type": "code",
   "execution_count": 65,
   "metadata": {},
   "outputs": [
    {
     "data": {
      "text/plain": [
       "True"
      ]
     },
     "execution_count": 65,
     "metadata": {},
     "output_type": "execute_result"
    }
   ],
   "source": [
    "isinstance(nala, Dog)"
   ]
  },
  {
   "cell_type": "code",
   "execution_count": 66,
   "metadata": {},
   "outputs": [
    {
     "data": {
      "text/plain": [
       "True"
      ]
     },
     "execution_count": 66,
     "metadata": {},
     "output_type": "execute_result"
    }
   ],
   "source": [
    "isinstance(nala, Animal)"
   ]
  },
  {
   "cell_type": "markdown",
   "metadata": {},
   "source": [
    "##### The \\__init\\__() Method for a Child Class - super()"
   ]
  },
  {
   "cell_type": "code",
   "execution_count": null,
   "metadata": {
    "scrolled": true
   },
   "outputs": [],
   "source": []
  },
  {
   "cell_type": "markdown",
   "metadata": {},
   "source": [
    "##### Defining Attributes and Methods for the Child Class"
   ]
  },
  {
   "cell_type": "code",
   "execution_count": null,
   "metadata": {},
   "outputs": [],
   "source": [
    "# See Above"
   ]
  },
  {
   "cell_type": "markdown",
   "metadata": {},
   "source": [
    "##### Method Overriding"
   ]
  },
  {
   "cell_type": "code",
   "execution_count": null,
   "metadata": {},
   "outputs": [],
   "source": [
    "# See Above"
   ]
  },
  {
   "cell_type": "code",
   "execution_count": 70,
   "metadata": {},
   "outputs": [
    {
     "name": "stdout",
     "output_type": "stream",
     "text": [
      "the mutt is a mix of Pitbull and boxer\n",
      "galloping\n",
      "BAARRRRKKKK!!!!!!!\n"
     ]
    }
   ],
   "source": [
    "class Mutt(Dog):\n",
    "    def __init__(self, second_species, is_house_trained, name, species, legs=4):\n",
    "        super().__init__(is_house_trained, name, species, legs)\n",
    "        self.second_species = second_species\n",
    "    def describe(self):\n",
    "        print(f\"the mutt is a mix of {self.species} and {self.second_species}\")\n",
    "        \n",
    "tippi = Mutt(\"boxer\", True, \"Tippi\", \"Pitbull\")\n",
    "tippi.describe()\n",
    "tippi.run()\n",
    "tippi.speak()"
   ]
  },
  {
   "cell_type": "code",
   "execution_count": null,
   "metadata": {},
   "outputs": [],
   "source": []
  },
  {
   "cell_type": "markdown",
   "metadata": {},
   "source": [
    "## Classes as Attributes <br>\n",
    "<p>Classes can also be used as attributes within another class. This is useful in situations where you need to keep variables locally stored, instead of globally stored.</p>"
   ]
  },
  {
   "cell_type": "code",
   "execution_count": 74,
   "metadata": {
    "scrolled": true
   },
   "outputs": [
    {
     "name": "stdout",
     "output_type": "stream",
     "text": [
      "2020 Tesla 7.8 6 20\n",
      "recharging...\n"
     ]
    }
   ],
   "source": [
    "class ElectricCar():\n",
    "    def __init__(self, year, make, a_battery):\n",
    "        self.year= year\n",
    "        self.make = make\n",
    "        self.battery = a_battery\n",
    "    \n",
    "    def describe(self):\n",
    "        print(self.year, self.make, self.battery.volts, self.battery.time, self.battery.cells)\n",
    "\n",
    "class Battery:\n",
    "    volts = 7.8\n",
    "    def __init__(self, cells):\n",
    "        self.cells = cells\n",
    "        self.time = 6\n",
    "        self.var = \"my_battery\"\n",
    "    \n",
    "    def recharge(self):\n",
    "        print(\"recharging...\")\n",
    "\n",
    "tesla = ElectricCar(2020, \"Tesla\", Battery(20))\n",
    "tesla.describe()\n",
    "tesla.battery.recharge()"
   ]
  },
  {
   "cell_type": "code",
   "execution_count": null,
   "metadata": {},
   "outputs": [],
   "source": [
    "class Person():\n",
    "    def __init__(self, name, age):\n",
    "        self.name = name\n",
    "        self.age = age\n",
    "        \n",
    "    def run(self):\n",
    "        print(f\"{self, name} says huff and puff Boy am I a fat slob\")\n",
    "    \n",
    "    def rant(self):\n",
    "        print(f\"{self.name} says Epstein didn't kill himself!!!\")\n",
    "    \n",
    "class UI():\n",
    "    def __init__(self, person):\n",
    "        self.person= person\n",
    "    \n",
    "    def run_program(self):\n",
    "        while True:\n",
    "            response = input(\"What do you want to do? Run Rant or Quit\")\n",
    "            if response.lower() == \"quit\":\n",
    "                break\n",
    "            elif response.lower() == \"run\":\n",
    "                self.person.run()\n",
    "            elif response.lower() == \"rant\":\n",
    "                self.person.rant()\n",
    "#Drive Code\n",
    "patrick = Person(\"Patrick\", 24)\n",
    "ui = UI(patrick)\n",
    "ui.run_program()\n",
    "#create Person\n"
   ]
  },
  {
   "cell_type": "code",
   "execution_count": null,
   "metadata": {},
   "outputs": [],
   "source": [
    "class FourLegs:\n",
    "    @classmethod\n",
    "    def run(cls):\n",
    "        print(\"run on 4 legs\")\n",
    "\n",
    "class Furry:\n",
    "    @classmethod\n",
    "    def brush(cls):\n",
    "        print(\"brushing\")\n",
    "        \n",
    "    @classmethod\n",
    "    def run(cls):\n",
    "        print(\"I have no legs!!!!\")\n",
    "        \n",
    "class Dog(FourLegs, Furry): #the first class will when in cases where methods are in both classes\n",
    "    def __init__(self):\n",
    "        super().__init__()\n",
    "        \n",
    "buster = Dog()\n",
    "buster.brush()\n",
    "buster.run()"
   ]
  },
  {
   "cell_type": "markdown",
   "metadata": {},
   "source": [
    "# Exercises"
   ]
  },
  {
   "cell_type": "markdown",
   "metadata": {},
   "source": [
    "### Exercise 1 - Turn the shopping cart program from yesterday into an object-oriented program"
   ]
  },
  {
   "cell_type": "code",
   "execution_count": 7,
   "metadata": {},
   "outputs": [
    {
     "name": "stdout",
     "output_type": "stream",
     "text": [
      "What would you like to do?  You can: quit/ add/ remove/ show/ or clear/ \n",
      " Choose only one \n",
      "add\n",
      "What would you like to add? eggs\n",
      "eggs was added to your cart!\n",
      "What would you like to do?  You can: quit/ add/ remove/ show/ or clear/ \n",
      " Choose only one \n",
      "show\n",
      "Your cart contains: eggs\n",
      "What would you like to do?  You can: quit/ add/ remove/ show/ or clear/ \n",
      " Choose only one \n",
      "add\n",
      "What would you like to add? chicken\n",
      "chicken was added to your cart!\n",
      "What would you like to do?  You can: quit/ add/ remove/ show/ or clear/ \n",
      " Choose only one \n",
      "add\n",
      "What would you like to add? juice\n",
      "juice was added to your cart!\n",
      "What would you like to do?  You can: quit/ add/ remove/ show/ or clear/ \n",
      " Choose only one \n",
      "show\n",
      "Your cart contains: eggs\n",
      "Your cart contains: chicken\n",
      "Your cart contains: juice\n",
      "What would you like to do?  You can: quit/ add/ remove/ show/ or clear/ \n",
      " Choose only one \n",
      "quit\n",
      "Your cart contains: eggs\n",
      "Your cart contains: chicken\n",
      "Your cart contains: juice\n",
      "Thanks for Shopping\n"
     ]
    }
   ],
   "source": [
    "# Create a class called cart that retains items and has methods to add, remove, and show\n",
    "\n",
    "class Cart():                                  #is a class just a collection of functions?\n",
    "\n",
    "    def __init__ (self, cart = []):             #init initializes the variables or instances, Can an instance be a list?\n",
    "        self.cart = cart\n",
    "    \n",
    "    def show_cart(self):\n",
    "        for item in self.cart:                            #function that shows cart \n",
    "            print(f\"Your cart contains: {item}\")\n",
    "        if not self.cart: \n",
    "            print(\"Your cart is empty\")\n",
    "    \n",
    "    def add_item(self, item):                             #function that adds to cart\n",
    "        self.cart.append(item)\n",
    "        print(f\"{item} was added to your cart!\")\n",
    "    \n",
    "    def remove_item(self, item):                          #function that removes from cart\n",
    "        self.cart.remove(item)\n",
    "        print(f\"{item} was removed from your cart!\")\n",
    "    \n",
    "    def clear_cart(self):                                 #function that clears cart \n",
    "        self.cart.clear()\n",
    "        print(\"Your cart is now empty\")\n",
    "\n",
    "\n",
    "    def shopping_cart(self):\n",
    "        while True:\n",
    "            response = input(\"What would you like to do?  You can: quit/ add/ remove/ show/ or clear/ \\n Choose only one \\n\")\n",
    "            if response.lower().strip() == 'quit':\n",
    "                self.show_cart()\n",
    "                print(\"Thanks for Shopping\")\n",
    "                break\n",
    "            elif response.lower().strip() == 'add':\n",
    "                item = input(\"What would you like to add? \")\n",
    "                self.add_item(item)\n",
    "            elif response.lower().strip() == 'remove':\n",
    "                item = input(\"What would you like to remove? \")\n",
    "                self.remove_item(item)\n",
    "            elif response.lower().strip() == 'show':\n",
    "                self.show_cart()\n",
    "            elif response.lower().strip() == 'clear':\n",
    "                self.clear_cart()\n",
    "            else:\n",
    "                print(\"Invalid Option You doughnut!\")\n",
    "    \n",
    "\n",
    "def start_shopping():\n",
    "    Vanessa = Cart()\n",
    "    Vanessa.shopping_cart()\n",
    "    \n",
    "start_shopping()"
   ]
  },
  {
   "cell_type": "markdown",
   "metadata": {},
   "source": [
    "### Exercise 2 - Write a Python class which has two methods get_String and print_String. get_String accept a string from the user and print_String print the string in upper case"
   ]
  },
  {
   "cell_type": "code",
   "execution_count": 4,
   "metadata": {},
   "outputs": [
    {
     "ename": "TypeError",
     "evalue": "__init__() missing 2 required positional arguments: 'gets' and 'prints'",
     "output_type": "error",
     "traceback": [
      "\u001b[1;31m---------------------------------------------------------------------------\u001b[0m",
      "\u001b[1;31mTypeError\u001b[0m                                 Traceback (most recent call last)",
      "\u001b[1;32m~\\AppData\\Local\\Temp/ipykernel_18088/1107658777.py\u001b[0m in \u001b[0;36m<module>\u001b[1;34m\u001b[0m\n\u001b[0;32m     16\u001b[0m     \u001b[0mgrail\u001b[0m\u001b[1;33m.\u001b[0m\u001b[0mprints\u001b[0m\u001b[1;33m(\u001b[0m\u001b[1;33m)\u001b[0m\u001b[1;33m\u001b[0m\u001b[1;33m\u001b[0m\u001b[0m\n\u001b[0;32m     17\u001b[0m \u001b[1;33m\u001b[0m\u001b[0m\n\u001b[1;32m---> 18\u001b[1;33m \u001b[0mrun_string\u001b[0m\u001b[1;33m(\u001b[0m\u001b[1;33m)\u001b[0m\u001b[1;33m\u001b[0m\u001b[1;33m\u001b[0m\u001b[0m\n\u001b[0m",
      "\u001b[1;32m~\\AppData\\Local\\Temp/ipykernel_18088/1107658777.py\u001b[0m in \u001b[0;36mrun_string\u001b[1;34m()\u001b[0m\n\u001b[0;32m     12\u001b[0m            \u001b[0mprint\u001b[0m\u001b[1;33m(\u001b[0m\u001b[1;34mf\"your quest is {string}\"\u001b[0m\u001b[1;33m)\u001b[0m\u001b[1;33m\u001b[0m\u001b[1;33m\u001b[0m\u001b[0m\n\u001b[0;32m     13\u001b[0m \u001b[1;32mdef\u001b[0m \u001b[0mrun_string\u001b[0m\u001b[1;33m(\u001b[0m\u001b[1;33m)\u001b[0m\u001b[1;33m:\u001b[0m\u001b[1;33m\u001b[0m\u001b[1;33m\u001b[0m\u001b[0m\n\u001b[1;32m---> 14\u001b[1;33m     \u001b[0mgrail\u001b[0m \u001b[1;33m=\u001b[0m \u001b[0mStrings\u001b[0m\u001b[1;33m(\u001b[0m\u001b[1;33m)\u001b[0m\u001b[1;33m\u001b[0m\u001b[1;33m\u001b[0m\u001b[0m\n\u001b[0m\u001b[0;32m     15\u001b[0m     \u001b[0mgrail\u001b[0m\u001b[1;33m.\u001b[0m\u001b[0mgets\u001b[0m\u001b[1;33m(\u001b[0m\u001b[1;33m)\u001b[0m\u001b[1;33m\u001b[0m\u001b[1;33m\u001b[0m\u001b[0m\n\u001b[0;32m     16\u001b[0m     \u001b[0mgrail\u001b[0m\u001b[1;33m.\u001b[0m\u001b[0mprints\u001b[0m\u001b[1;33m(\u001b[0m\u001b[1;33m)\u001b[0m\u001b[1;33m\u001b[0m\u001b[1;33m\u001b[0m\u001b[0m\n",
      "\u001b[1;31mTypeError\u001b[0m: __init__() missing 2 required positional arguments: 'gets' and 'prints'"
     ]
    }
   ],
   "source": [
    "class Strings():\n",
    "    def __init__(self, gets, prints):\n",
    "        self.gets= \"gets string\"\n",
    "        self.prints= \"prints string\"\n",
    "    \n",
    "    def gets(self):\n",
    "        string = input(\"What is your quest?\")\n",
    "        \n",
    "    \n",
    "    def prints(self):\n",
    "        for string in self.gets:\n",
    "           print(f\"your quest is {string}\") \n",
    "def run_string():\n",
    "    grail = Strings()\n",
    "    grail.gets()\n",
    "    grail.prints()\n",
    "    \n",
    "run_string()"
   ]
  },
  {
   "cell_type": "code",
   "execution_count": null,
   "metadata": {},
   "outputs": [],
   "source": []
  }
 ],
 "metadata": {
  "kernelspec": {
   "display_name": "Python 3 (ipykernel)",
   "language": "python",
   "name": "python3"
  },
  "language_info": {
   "codemirror_mode": {
    "name": "ipython",
    "version": 3
   },
   "file_extension": ".py",
   "mimetype": "text/x-python",
   "name": "python",
   "nbconvert_exporter": "python",
   "pygments_lexer": "ipython3",
   "version": "3.9.7"
  }
 },
 "nbformat": 4,
 "nbformat_minor": 2
}
